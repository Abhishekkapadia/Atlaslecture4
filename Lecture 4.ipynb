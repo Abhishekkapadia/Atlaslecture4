{
 "cells": [
  {
   "cell_type": "markdown",
   "metadata": {},
   "source": [
    "# Classwork Lecture 4\n",
    "\n",
    "In this exercise, you'll get familiar with the following basics of python:\n",
    "\n",
    "- String Functions\n",
    "- If Else Statements\n",
    "- For Loops"
   ]
  },
  {
   "cell_type": "markdown",
   "metadata": {},
   "source": [
    "## Student Details\n",
    "\n",
    "- Name:\n",
    "- Division: \n",
    "- Roll: "
   ]
  },
  {
   "cell_type": "markdown",
   "metadata": {},
   "source": [
    "# String Functions\n",
    "\n",
    "Python has a set of built-in methods that you can use on strings. Please complete the following short exercise to learn more about the different string functions. \n",
    "\n",
    "[See Reference Library of String Functions](https://www.w3schools.com/python/python_ref_string.asp)\n"
   ]
  },
  {
   "cell_type": "markdown",
   "metadata": {},
   "source": [
    "## Part 1"
   ]
  },
  {
   "cell_type": "code",
   "execution_count": 1,
   "metadata": {},
   "outputs": [],
   "source": [
    "# Name\n",
    "\n",
    "\n",
    "#Empty String\n",
    "\n",
    "\n",
    "#String with numeric values in it\n"
   ]
  },
  {
   "cell_type": "code",
   "execution_count": 3,
   "metadata": {},
   "outputs": [
    {
     "data": {
      "text/plain": [
       "'abhishek'"
      ]
     },
     "execution_count": 3,
     "metadata": {},
     "output_type": "execute_result"
    }
   ],
   "source": [
    "# Q1 A Create and print a variable called \"my_name\"that stores your name in all lower case\n",
    "my_name = \"abhishek\"\n",
    "my_name"
   ]
  },
  {
   "cell_type": "code",
   "execution_count": 4,
   "metadata": {},
   "outputs": [
    {
     "data": {
      "text/plain": [
       "'Abhishek'"
      ]
     },
     "execution_count": 4,
     "metadata": {},
     "output_type": "execute_result"
    }
   ],
   "source": [
    "# Q1 B Capitalize the first letter of \"my_name\" and then print it\n",
    "my_name = my_name.capitalize()\n",
    "my_name"
   ]
  },
  {
   "cell_type": "code",
   "execution_count": 7,
   "metadata": {},
   "outputs": [
    {
     "data": {
      "text/plain": [
       "'ABHISHEK'"
      ]
     },
     "execution_count": 7,
     "metadata": {},
     "output_type": "execute_result"
    }
   ],
   "source": [
    "# Q1 C Capitalize all letters of \"my_name\" and then print it\n",
    "my_name = my_name.upper()\n",
    "my_name"
   ]
  },
  {
   "cell_type": "markdown",
   "metadata": {},
   "source": [
    "## Part 2"
   ]
  },
  {
   "cell_type": "code",
   "execution_count": 10,
   "metadata": {},
   "outputs": [
    {
     "data": {
      "text/plain": [
       "'I love apples, apples are my favorite fruit'"
      ]
     },
     "execution_count": 10,
     "metadata": {},
     "output_type": "execute_result"
    }
   ],
   "source": [
    "# Q2 A Create and print a variable called \"my_favorite_fruit\" \n",
    "# and make it store \"I love apples, apples are my favorite fruit\"\n",
    "my_favorite_fruit =\"I love apples, apples are my favorite fruit\"\n",
    "my_favorite_fruit"
   ]
  },
  {
   "cell_type": "code",
   "execution_count": 17,
   "metadata": {},
   "outputs": [
    {
     "data": {
      "text/plain": [
       "True"
      ]
     },
     "execution_count": 17,
     "metadata": {},
     "output_type": "execute_result"
    }
   ],
   "source": [
    "# Q2 B Print whether \"my_favorite_fruit\" ends with \"fruit\" \n",
    "my_favorite_fruit.endswith(\"fruit\")\n"
   ]
  },
  {
   "cell_type": "code",
   "execution_count": 19,
   "metadata": {},
   "outputs": [
    {
     "data": {
      "text/plain": [
       "2"
      ]
     },
     "execution_count": 19,
     "metadata": {},
     "output_type": "execute_result"
    }
   ],
   "source": [
    "# Q2 C Count and print the number of times the value \"apple\" appears in the string\n",
    "apple_count = my_favorite_fruit.count(\"apple\")\n",
    "apple_count"
   ]
  },
  {
   "cell_type": "code",
   "execution_count": 22,
   "metadata": {},
   "outputs": [
    {
     "data": {
      "text/plain": [
       "'I love bananas, bananas are my favorite fruit'"
      ]
     },
     "execution_count": 22,
     "metadata": {},
     "output_type": "execute_result"
    }
   ],
   "source": [
    "# Q2 D Replace \"apple\" with \"banana\" in \"my_favorite_fruit\"\n",
    "my_favorite_fruit = my_favorite_fruit.replace(\"apple\" , \"banana\")\n",
    "my_favorite_fruit"
   ]
  },
  {
   "cell_type": "code",
   "execution_count": 23,
   "metadata": {},
   "outputs": [
    {
     "data": {
      "text/plain": [
       "'I Love Bananas, Bananas Are My Favorite Fruit'"
      ]
     },
     "execution_count": 23,
     "metadata": {},
     "output_type": "execute_result"
    }
   ],
   "source": [
    "# Q2 E Convert the first character of each word in \"my_favorite_fruit\" to upper case\n",
    "my_favorite_fruit = my_favorite_fruit.title()\n",
    "my_favorite_fruit"
   ]
  },
  {
   "cell_type": "code",
   "execution_count": 24,
   "metadata": {},
   "outputs": [
    {
     "data": {
      "text/plain": [
       "'I Love Bananas, Bananas Are My Favorite Fruit'"
      ]
     },
     "execution_count": 24,
     "metadata": {},
     "output_type": "execute_result"
    }
   ],
   "source": [
    "# Q2 F Split \"my_favorite_fruit\" on \",\" and print the result\n",
    "\n",
    "my_favorite_fruit = my_favorite_fruit.strip(\",\")\n",
    "my_favorite_fruit"
   ]
  },
  {
   "cell_type": "markdown",
   "metadata": {},
   "source": [
    "# If Else Statements\n",
    "\n",
    "[See Reference](https://info370a-w19.github.io/python-basics/logic-and-conditionals.html)"
   ]
  },
  {
   "cell_type": "code",
   "execution_count": 29,
   "metadata": {},
   "outputs": [],
   "source": [
    "#Mother Older \n",
    "def is_mother_older(mother_age, father_age):\n",
    "    if mother_age>father_age:\n",
    "        print(\"mother is older\")\n",
    "    \n",
    "    else :\n",
    "        print(\"father is older\")"
   ]
  },
  {
   "cell_type": "code",
   "execution_count": 30,
   "metadata": {},
   "outputs": [
    {
     "name": "stdout",
     "output_type": "stream",
     "text": [
      "father is older\n"
     ]
    }
   ],
   "source": [
    "is_mother_older(44,45)"
   ]
  },
  {
   "cell_type": "code",
   "execution_count": 47,
   "metadata": {},
   "outputs": [],
   "source": [
    "#Pass Fail \n",
    "def pass_fail(grade):\n",
    "    if grade>35:\n",
    "        print(\"pass\")\n",
    "        \n",
    "    elif grade==35:\n",
    "        print(\"just passed\")\n",
    "    \n",
    "    else:\n",
    "        print(\"fail\")"
   ]
  },
  {
   "cell_type": "code",
   "execution_count": 50,
   "metadata": {},
   "outputs": [
    {
     "name": "stdout",
     "output_type": "stream",
     "text": [
      "just passed\n",
      "pass\n",
      "fail\n"
     ]
    }
   ],
   "source": [
    "pass_fail(35)\n",
    "pass_fail(45)\n",
    "pass_fail(32)"
   ]
  },
  {
   "cell_type": "code",
   "execution_count": null,
   "metadata": {},
   "outputs": [],
   "source": []
  },
  {
   "cell_type": "raw",
   "metadata": {},
   "source": [
    "# Create a function that accepts the current temperature and returns \"is hot\" if the temperature is greater than 24 and returns \"is not hot\" if the temperature is equal to or below 24"
   ]
  },
  {
   "cell_type": "code",
   "execution_count": 69,
   "metadata": {},
   "outputs": [],
   "source": [
    "def hot_or_cold(temperature):\n",
    "    if temperature>24:\n",
    "        return \"is hot\"\n",
    "    else :\n",
    "        return \"not hot\""
   ]
  },
  {
   "cell_type": "code",
   "execution_count": 71,
   "metadata": {},
   "outputs": [
    {
     "data": {
      "text/plain": [
       "'is hot'"
      ]
     },
     "execution_count": 71,
     "metadata": {},
     "output_type": "execute_result"
    }
   ],
   "source": [
    "hot_or_cold(32)"
   ]
  },
  {
   "cell_type": "markdown",
   "metadata": {},
   "source": [
    "# Grades\n",
    "\n",
    "- A Grade: 90 and above\n",
    "- B Grade: 70 and 89\n",
    "- C Grade: 50 and 69\n",
    "- D Grade: 35 and 49\n",
    "- F Grade: Anything below 35"
   ]
  },
  {
   "cell_type": "code",
   "execution_count": null,
   "metadata": {},
   "outputs": [],
   "source": [
    "def grader(score):\n",
    "    if score>=90\n",
    "    return=\"A\"\n",
    "elif score>=70 and score=<89\n",
    " return=\"B\"\n",
    "elif score>="
   ]
  },
  {
   "cell_type": "code",
   "execution_count": null,
   "metadata": {},
   "outputs": [],
   "source": []
  },
  {
   "cell_type": "code",
   "execution_count": 13,
   "metadata": {},
   "outputs": [],
   "source": [
    "# Create a function called \"goldilocks\" that accepts a numeric temperature value \n",
    "# and returns \"This porridge is too hot!\" if the temperature value is >= 80\n",
    "# and returns \"This porridge is just right\" if the temperature value is between 40 and 79\n",
    "# and returns \"This porridge is too cold\" if the temperature value is below 40\n",
    "\n"
   ]
  },
  {
   "cell_type": "code",
   "execution_count": null,
   "metadata": {},
   "outputs": [],
   "source": []
  },
  {
   "cell_type": "markdown",
   "metadata": {},
   "source": [
    "# For Loops"
   ]
  },
  {
   "cell_type": "code",
   "execution_count": 74,
   "metadata": {
    "scrolled": true
   },
   "outputs": [
    {
     "data": {
      "text/plain": [
       "['godfather', 'seabiscuit', 'the founder', 'the gentlemen']"
      ]
     },
     "execution_count": 74,
     "metadata": {},
     "output_type": "execute_result"
    }
   ],
   "source": [
    "# Create a list of your favorite movies\n",
    "movies = [\"godfather\",\"seabiscuit\",\"the founder\",\"the gentlemen\"]\n",
    "movies"
   ]
  },
  {
   "cell_type": "code",
   "execution_count": 75,
   "metadata": {},
   "outputs": [
    {
     "name": "stdout",
     "output_type": "stream",
     "text": [
      "I love godfather\n",
      "I love seabiscuit\n",
      "I love the founder\n",
      "I love the gentlemen\n"
     ]
    }
   ],
   "source": [
    "# Create a for loop that prints each of your favorite movies with the text \"I love \"\n",
    "for movie in movies:\n",
    "    print (\"I love\",movie)"
   ]
  },
  {
   "cell_type": "code",
   "execution_count": 16,
   "metadata": {},
   "outputs": [],
   "source": [
    "# Create a list of your favorite cars and favorite colors"
   ]
  },
  {
   "cell_type": "code",
   "execution_count": null,
   "metadata": {},
   "outputs": [],
   "source": [
    "cars = [\"Ferrari\",\"Mercedes\",\"BMW\",\"Bentley\"]\n",
    "colors = [\"red\",\"yellow\", \"blue\",\"green\"]"
   ]
  },
  {
   "cell_type": "code",
   "execution_count": 99,
   "metadata": {},
   "outputs": [
    {
     "ename": "NameError",
     "evalue": "name 'colors' is not defined",
     "output_type": "error",
     "traceback": [
      "\u001b[0;31m---------------------------------------------------------------------------\u001b[0m",
      "\u001b[0;31mNameError\u001b[0m                                 Traceback (most recent call last)",
      "\u001b[0;32m<ipython-input-99-d138c6fe8efd>\u001b[0m in \u001b[0;36m<module>\u001b[0;34m\u001b[0m\n\u001b[1;32m      1\u001b[0m \u001b[0;31m# Create a nested for loop that prints your favorite car names for each favorite color\u001b[0m\u001b[0;34m\u001b[0m\u001b[0;34m\u001b[0m\u001b[0;34m\u001b[0m\u001b[0m\n\u001b[0;32m----> 2\u001b[0;31m \u001b[0;32mfor\u001b[0m \u001b[0mcolor\u001b[0m \u001b[0;32min\u001b[0m \u001b[0mcolors\u001b[0m\u001b[0;34m:\u001b[0m\u001b[0;34m\u001b[0m\u001b[0;34m\u001b[0m\u001b[0m\n\u001b[0m\u001b[1;32m      3\u001b[0m     \u001b[0;32mfor\u001b[0m \u001b[0mcar\u001b[0m \u001b[0;32min\u001b[0m \u001b[0mcars\u001b[0m\u001b[0;34m:\u001b[0m\u001b[0;34m\u001b[0m\u001b[0;34m\u001b[0m\u001b[0m\n\u001b[1;32m      4\u001b[0m         \u001b[0mprint\u001b[0m \u001b[0;34m(\u001b[0m\u001b[0mcolor\u001b[0m\u001b[0;34m,\u001b[0m\u001b[0mcar\u001b[0m\u001b[0;34m)\u001b[0m\u001b[0;34m\u001b[0m\u001b[0;34m\u001b[0m\u001b[0m\n",
      "\u001b[0;31mNameError\u001b[0m: name 'colors' is not defined"
     ]
    }
   ],
   "source": [
    "# Create a nested for loop that prints your favorite car names for each favorite color\n",
    "for color in colors:\n",
    "    for car in cars:\n",
    "        print (color,car)"
   ]
  },
  {
   "cell_type": "code",
   "execution_count": null,
   "metadata": {},
   "outputs": [],
   "source": [
    "def speed_red_mazda_exists(cars,colors):\n",
    "    for color in colors:\n",
    "        if color==\"speed red\"\n",
    "        for car in cars:\n",
    "            if car == \"Mazda\"\n",
    "            return \"It exists\"\n",
    "        return \"Does not exist\"\n",
    "        \n"
   ]
  },
  {
   "cell_type": "markdown",
   "metadata": {},
   "source": [
    "# Create a function that accepts a list of colors and a list of cars  and then returns the following\n",
    "\n",
    "- \"Yes it exists\" if the car combination \"Speed Red Mazda\" is possible\n",
    "- \"Does not exist\" for every other car combination"
   ]
  },
  {
   "cell_type": "code",
   "execution_count": 103,
   "metadata": {},
   "outputs": [
    {
     "ename": "IndentationError",
     "evalue": "expected an indented block (<ipython-input-103-b294ff181f2b>, line 4)",
     "output_type": "error",
     "traceback": [
      "\u001b[0;36m  File \u001b[0;32m\"<ipython-input-103-b294ff181f2b>\"\u001b[0;36m, line \u001b[0;32m4\u001b[0m\n\u001b[0;31m    for car in cars:\u001b[0m\n\u001b[0m    ^\u001b[0m\n\u001b[0;31mIndentationError\u001b[0m\u001b[0;31m:\u001b[0m expected an indented block\n"
     ]
    }
   ],
   "source": [
    "def speed_red_mazda_exists(cars,colors):\n",
    "    for color in colors:\n",
    "        if color == \"speed red\":\n",
    "            for car in cars:\n",
    "            if car == \"Mazda\"\n",
    "            return \"It exists\"\n",
    "        return \"Does not exist\"\n",
    "        "
   ]
  },
  {
   "cell_type": "code",
   "execution_count": null,
   "metadata": {},
   "outputs": [],
   "source": []
  },
  {
   "cell_type": "code",
   "execution_count": null,
   "metadata": {},
   "outputs": [],
   "source": []
  }
 ],
 "metadata": {
  "kernelspec": {
   "display_name": "Python 3",
   "language": "python",
   "name": "python3"
  },
  "language_info": {
   "codemirror_mode": {
    "name": "ipython",
    "version": 3
   },
   "file_extension": ".py",
   "mimetype": "text/x-python",
   "name": "python",
   "nbconvert_exporter": "python",
   "pygments_lexer": "ipython3",
   "version": "3.8.8"
  }
 },
 "nbformat": 4,
 "nbformat_minor": 4
}
